{
 "cells": [
  {
   "cell_type": "code",
   "execution_count": 133,
   "metadata": {},
   "outputs": [
    {
     "data": {
      "text/html": [
       "<div>\n",
       "<style scoped>\n",
       "    .dataframe tbody tr th:only-of-type {\n",
       "        vertical-align: middle;\n",
       "    }\n",
       "\n",
       "    .dataframe tbody tr th {\n",
       "        vertical-align: top;\n",
       "    }\n",
       "\n",
       "    .dataframe thead th {\n",
       "        text-align: right;\n",
       "    }\n",
       "</style>\n",
       "<table border=\"1\" class=\"dataframe\">\n",
       "  <thead>\n",
       "    <tr style=\"text-align: right;\">\n",
       "      <th></th>\n",
       "      <th>is_canceled</th>\n",
       "      <th>lead_time</th>\n",
       "      <th>stays_in_week_nights</th>\n",
       "      <th>adults</th>\n",
       "      <th>children</th>\n",
       "      <th>babies</th>\n",
       "      <th>meal</th>\n",
       "      <th>market_segment</th>\n",
       "      <th>distribution_channel</th>\n",
       "      <th>is_repeated_guest</th>\n",
       "      <th>previous_cancellations</th>\n",
       "      <th>previous_bookings_not_canceled</th>\n",
       "      <th>booking_changes</th>\n",
       "      <th>deposit_type</th>\n",
       "      <th>days_in_waiting_list</th>\n",
       "      <th>customer_type</th>\n",
       "      <th>required_car_parking_spaces</th>\n",
       "      <th>total_of_special_requests</th>\n",
       "      <th>different_assigned_room</th>\n",
       "    </tr>\n",
       "  </thead>\n",
       "  <tbody>\n",
       "    <tr>\n",
       "      <th>0</th>\n",
       "      <td>0</td>\n",
       "      <td>6</td>\n",
       "      <td>2</td>\n",
       "      <td>1</td>\n",
       "      <td>0.0</td>\n",
       "      <td>0</td>\n",
       "      <td>2</td>\n",
       "      <td>7</td>\n",
       "      <td>4</td>\n",
       "      <td>0</td>\n",
       "      <td>0</td>\n",
       "      <td>0</td>\n",
       "      <td>0</td>\n",
       "      <td>1</td>\n",
       "      <td>0</td>\n",
       "      <td>3</td>\n",
       "      <td>0</td>\n",
       "      <td>0</td>\n",
       "      <td>0</td>\n",
       "    </tr>\n",
       "    <tr>\n",
       "      <th>1</th>\n",
       "      <td>1</td>\n",
       "      <td>88</td>\n",
       "      <td>4</td>\n",
       "      <td>2</td>\n",
       "      <td>0.0</td>\n",
       "      <td>0</td>\n",
       "      <td>1</td>\n",
       "      <td>6</td>\n",
       "      <td>4</td>\n",
       "      <td>0</td>\n",
       "      <td>0</td>\n",
       "      <td>0</td>\n",
       "      <td>0</td>\n",
       "      <td>1</td>\n",
       "      <td>0</td>\n",
       "      <td>3</td>\n",
       "      <td>0</td>\n",
       "      <td>1</td>\n",
       "      <td>0</td>\n",
       "    </tr>\n",
       "    <tr>\n",
       "      <th>2</th>\n",
       "      <td>1</td>\n",
       "      <td>65</td>\n",
       "      <td>4</td>\n",
       "      <td>1</td>\n",
       "      <td>0.0</td>\n",
       "      <td>0</td>\n",
       "      <td>1</td>\n",
       "      <td>6</td>\n",
       "      <td>4</td>\n",
       "      <td>0</td>\n",
       "      <td>0</td>\n",
       "      <td>0</td>\n",
       "      <td>0</td>\n",
       "      <td>1</td>\n",
       "      <td>0</td>\n",
       "      <td>3</td>\n",
       "      <td>0</td>\n",
       "      <td>1</td>\n",
       "      <td>0</td>\n",
       "    </tr>\n",
       "    <tr>\n",
       "      <th>3</th>\n",
       "      <td>1</td>\n",
       "      <td>92</td>\n",
       "      <td>4</td>\n",
       "      <td>2</td>\n",
       "      <td>0.0</td>\n",
       "      <td>0</td>\n",
       "      <td>1</td>\n",
       "      <td>6</td>\n",
       "      <td>4</td>\n",
       "      <td>0</td>\n",
       "      <td>0</td>\n",
       "      <td>0</td>\n",
       "      <td>0</td>\n",
       "      <td>1</td>\n",
       "      <td>0</td>\n",
       "      <td>3</td>\n",
       "      <td>0</td>\n",
       "      <td>2</td>\n",
       "      <td>0</td>\n",
       "    </tr>\n",
       "    <tr>\n",
       "      <th>4</th>\n",
       "      <td>1</td>\n",
       "      <td>100</td>\n",
       "      <td>2</td>\n",
       "      <td>2</td>\n",
       "      <td>0.0</td>\n",
       "      <td>0</td>\n",
       "      <td>1</td>\n",
       "      <td>6</td>\n",
       "      <td>4</td>\n",
       "      <td>0</td>\n",
       "      <td>0</td>\n",
       "      <td>0</td>\n",
       "      <td>0</td>\n",
       "      <td>1</td>\n",
       "      <td>0</td>\n",
       "      <td>3</td>\n",
       "      <td>0</td>\n",
       "      <td>1</td>\n",
       "      <td>0</td>\n",
       "    </tr>\n",
       "    <tr>\n",
       "      <th>5</th>\n",
       "      <td>1</td>\n",
       "      <td>79</td>\n",
       "      <td>3</td>\n",
       "      <td>2</td>\n",
       "      <td>0.0</td>\n",
       "      <td>0</td>\n",
       "      <td>1</td>\n",
       "      <td>6</td>\n",
       "      <td>4</td>\n",
       "      <td>0</td>\n",
       "      <td>0</td>\n",
       "      <td>0</td>\n",
       "      <td>0</td>\n",
       "      <td>1</td>\n",
       "      <td>0</td>\n",
       "      <td>3</td>\n",
       "      <td>0</td>\n",
       "      <td>1</td>\n",
       "      <td>0</td>\n",
       "    </tr>\n",
       "    <tr>\n",
       "      <th>6</th>\n",
       "      <td>0</td>\n",
       "      <td>3</td>\n",
       "      <td>3</td>\n",
       "      <td>1</td>\n",
       "      <td>0.0</td>\n",
       "      <td>0</td>\n",
       "      <td>2</td>\n",
       "      <td>5</td>\n",
       "      <td>4</td>\n",
       "      <td>0</td>\n",
       "      <td>0</td>\n",
       "      <td>0</td>\n",
       "      <td>1</td>\n",
       "      <td>1</td>\n",
       "      <td>0</td>\n",
       "      <td>4</td>\n",
       "      <td>0</td>\n",
       "      <td>0</td>\n",
       "      <td>0</td>\n",
       "    </tr>\n",
       "    <tr>\n",
       "      <th>7</th>\n",
       "      <td>1</td>\n",
       "      <td>63</td>\n",
       "      <td>3</td>\n",
       "      <td>1</td>\n",
       "      <td>0.0</td>\n",
       "      <td>0</td>\n",
       "      <td>1</td>\n",
       "      <td>6</td>\n",
       "      <td>4</td>\n",
       "      <td>0</td>\n",
       "      <td>0</td>\n",
       "      <td>0</td>\n",
       "      <td>0</td>\n",
       "      <td>1</td>\n",
       "      <td>0</td>\n",
       "      <td>3</td>\n",
       "      <td>0</td>\n",
       "      <td>0</td>\n",
       "      <td>0</td>\n",
       "    </tr>\n",
       "    <tr>\n",
       "      <th>8</th>\n",
       "      <td>1</td>\n",
       "      <td>62</td>\n",
       "      <td>3</td>\n",
       "      <td>2</td>\n",
       "      <td>0.0</td>\n",
       "      <td>0</td>\n",
       "      <td>1</td>\n",
       "      <td>6</td>\n",
       "      <td>4</td>\n",
       "      <td>0</td>\n",
       "      <td>0</td>\n",
       "      <td>0</td>\n",
       "      <td>0</td>\n",
       "      <td>1</td>\n",
       "      <td>0</td>\n",
       "      <td>3</td>\n",
       "      <td>0</td>\n",
       "      <td>1</td>\n",
       "      <td>0</td>\n",
       "    </tr>\n",
       "    <tr>\n",
       "      <th>9</th>\n",
       "      <td>1</td>\n",
       "      <td>62</td>\n",
       "      <td>3</td>\n",
       "      <td>2</td>\n",
       "      <td>0.0</td>\n",
       "      <td>0</td>\n",
       "      <td>1</td>\n",
       "      <td>6</td>\n",
       "      <td>4</td>\n",
       "      <td>0</td>\n",
       "      <td>0</td>\n",
       "      <td>0</td>\n",
       "      <td>0</td>\n",
       "      <td>1</td>\n",
       "      <td>0</td>\n",
       "      <td>3</td>\n",
       "      <td>0</td>\n",
       "      <td>1</td>\n",
       "      <td>0</td>\n",
       "    </tr>\n",
       "    <tr>\n",
       "      <th>10</th>\n",
       "      <td>0</td>\n",
       "      <td>43</td>\n",
       "      <td>2</td>\n",
       "      <td>2</td>\n",
       "      <td>0.0</td>\n",
       "      <td>0</td>\n",
       "      <td>2</td>\n",
       "      <td>5</td>\n",
       "      <td>4</td>\n",
       "      <td>0</td>\n",
       "      <td>0</td>\n",
       "      <td>0</td>\n",
       "      <td>0</td>\n",
       "      <td>1</td>\n",
       "      <td>0</td>\n",
       "      <td>4</td>\n",
       "      <td>0</td>\n",
       "      <td>0</td>\n",
       "      <td>0</td>\n",
       "    </tr>\n",
       "    <tr>\n",
       "      <th>11</th>\n",
       "      <td>0</td>\n",
       "      <td>43</td>\n",
       "      <td>2</td>\n",
       "      <td>2</td>\n",
       "      <td>0.0</td>\n",
       "      <td>0</td>\n",
       "      <td>2</td>\n",
       "      <td>5</td>\n",
       "      <td>4</td>\n",
       "      <td>0</td>\n",
       "      <td>0</td>\n",
       "      <td>0</td>\n",
       "      <td>1</td>\n",
       "      <td>1</td>\n",
       "      <td>0</td>\n",
       "      <td>4</td>\n",
       "      <td>0</td>\n",
       "      <td>0</td>\n",
       "      <td>0</td>\n",
       "    </tr>\n",
       "    <tr>\n",
       "      <th>12</th>\n",
       "      <td>0</td>\n",
       "      <td>43</td>\n",
       "      <td>2</td>\n",
       "      <td>2</td>\n",
       "      <td>0.0</td>\n",
       "      <td>0</td>\n",
       "      <td>2</td>\n",
       "      <td>5</td>\n",
       "      <td>4</td>\n",
       "      <td>0</td>\n",
       "      <td>0</td>\n",
       "      <td>0</td>\n",
       "      <td>0</td>\n",
       "      <td>1</td>\n",
       "      <td>0</td>\n",
       "      <td>4</td>\n",
       "      <td>0</td>\n",
       "      <td>0</td>\n",
       "      <td>0</td>\n",
       "    </tr>\n",
       "    <tr>\n",
       "      <th>13</th>\n",
       "      <td>0</td>\n",
       "      <td>4</td>\n",
       "      <td>2</td>\n",
       "      <td>1</td>\n",
       "      <td>0.0</td>\n",
       "      <td>0</td>\n",
       "      <td>2</td>\n",
       "      <td>5</td>\n",
       "      <td>4</td>\n",
       "      <td>0</td>\n",
       "      <td>0</td>\n",
       "      <td>0</td>\n",
       "      <td>0</td>\n",
       "      <td>1</td>\n",
       "      <td>0</td>\n",
       "      <td>4</td>\n",
       "      <td>0</td>\n",
       "      <td>0</td>\n",
       "      <td>0</td>\n",
       "    </tr>\n",
       "    <tr>\n",
       "      <th>14</th>\n",
       "      <td>1</td>\n",
       "      <td>43</td>\n",
       "      <td>2</td>\n",
       "      <td>2</td>\n",
       "      <td>0.0</td>\n",
       "      <td>0</td>\n",
       "      <td>2</td>\n",
       "      <td>5</td>\n",
       "      <td>4</td>\n",
       "      <td>0</td>\n",
       "      <td>0</td>\n",
       "      <td>0</td>\n",
       "      <td>0</td>\n",
       "      <td>1</td>\n",
       "      <td>0</td>\n",
       "      <td>4</td>\n",
       "      <td>0</td>\n",
       "      <td>0</td>\n",
       "      <td>0</td>\n",
       "    </tr>\n",
       "  </tbody>\n",
       "</table>\n",
       "</div>"
      ],
      "text/plain": [
       "    is_canceled  lead_time  stays_in_week_nights  adults  children  babies  \\\n",
       "0             0          6                     2       1       0.0       0   \n",
       "1             1         88                     4       2       0.0       0   \n",
       "2             1         65                     4       1       0.0       0   \n",
       "3             1         92                     4       2       0.0       0   \n",
       "4             1        100                     2       2       0.0       0   \n",
       "5             1         79                     3       2       0.0       0   \n",
       "6             0          3                     3       1       0.0       0   \n",
       "7             1         63                     3       1       0.0       0   \n",
       "8             1         62                     3       2       0.0       0   \n",
       "9             1         62                     3       2       0.0       0   \n",
       "10            0         43                     2       2       0.0       0   \n",
       "11            0         43                     2       2       0.0       0   \n",
       "12            0         43                     2       2       0.0       0   \n",
       "13            0          4                     2       1       0.0       0   \n",
       "14            1         43                     2       2       0.0       0   \n",
       "\n",
       "    meal  market_segment  distribution_channel  is_repeated_guest  \\\n",
       "0      2               7                     4                  0   \n",
       "1      1               6                     4                  0   \n",
       "2      1               6                     4                  0   \n",
       "3      1               6                     4                  0   \n",
       "4      1               6                     4                  0   \n",
       "5      1               6                     4                  0   \n",
       "6      2               5                     4                  0   \n",
       "7      1               6                     4                  0   \n",
       "8      1               6                     4                  0   \n",
       "9      1               6                     4                  0   \n",
       "10     2               5                     4                  0   \n",
       "11     2               5                     4                  0   \n",
       "12     2               5                     4                  0   \n",
       "13     2               5                     4                  0   \n",
       "14     2               5                     4                  0   \n",
       "\n",
       "    previous_cancellations  previous_bookings_not_canceled  booking_changes  \\\n",
       "0                        0                               0                0   \n",
       "1                        0                               0                0   \n",
       "2                        0                               0                0   \n",
       "3                        0                               0                0   \n",
       "4                        0                               0                0   \n",
       "5                        0                               0                0   \n",
       "6                        0                               0                1   \n",
       "7                        0                               0                0   \n",
       "8                        0                               0                0   \n",
       "9                        0                               0                0   \n",
       "10                       0                               0                0   \n",
       "11                       0                               0                1   \n",
       "12                       0                               0                0   \n",
       "13                       0                               0                0   \n",
       "14                       0                               0                0   \n",
       "\n",
       "    deposit_type  days_in_waiting_list  customer_type  \\\n",
       "0              1                     0              3   \n",
       "1              1                     0              3   \n",
       "2              1                     0              3   \n",
       "3              1                     0              3   \n",
       "4              1                     0              3   \n",
       "5              1                     0              3   \n",
       "6              1                     0              4   \n",
       "7              1                     0              3   \n",
       "8              1                     0              3   \n",
       "9              1                     0              3   \n",
       "10             1                     0              4   \n",
       "11             1                     0              4   \n",
       "12             1                     0              4   \n",
       "13             1                     0              4   \n",
       "14             1                     0              4   \n",
       "\n",
       "    required_car_parking_spaces  total_of_special_requests  \\\n",
       "0                             0                          0   \n",
       "1                             0                          1   \n",
       "2                             0                          1   \n",
       "3                             0                          2   \n",
       "4                             0                          1   \n",
       "5                             0                          1   \n",
       "6                             0                          0   \n",
       "7                             0                          0   \n",
       "8                             0                          1   \n",
       "9                             0                          1   \n",
       "10                            0                          0   \n",
       "11                            0                          0   \n",
       "12                            0                          0   \n",
       "13                            0                          0   \n",
       "14                            0                          0   \n",
       "\n",
       "    different_assigned_room  \n",
       "0                         0  \n",
       "1                         0  \n",
       "2                         0  \n",
       "3                         0  \n",
       "4                         0  \n",
       "5                         0  \n",
       "6                         0  \n",
       "7                         0  \n",
       "8                         0  \n",
       "9                         0  \n",
       "10                        0  \n",
       "11                        0  \n",
       "12                        0  \n",
       "13                        0  \n",
       "14                        0  "
      ]
     },
     "execution_count": 133,
     "metadata": {},
     "output_type": "execute_result"
    }
   ],
   "source": [
    "import pandas as pd # import pandas \n",
    "import os \n",
    "bookings = pd.read_csv(\"/Users/brindamunuswamy/Desktop/MIS581/h2Features.csv\") # read CSV into pandas\n",
    "bookings.head(15) #reading top 5 rows"
   ]
  },
  {
   "cell_type": "code",
   "execution_count": 134,
   "metadata": {},
   "outputs": [
    {
     "name": "stdout",
     "output_type": "stream",
     "text": [
      "<class 'pandas.core.frame.DataFrame'>\n",
      "RangeIndex: 79330 entries, 0 to 79329\n",
      "Data columns (total 19 columns):\n",
      " #   Column                          Non-Null Count  Dtype  \n",
      "---  ------                          --------------  -----  \n",
      " 0   is_canceled                     79330 non-null  int64  \n",
      " 1   lead_time                       79330 non-null  int64  \n",
      " 2   stays_in_week_nights            79330 non-null  int64  \n",
      " 3   adults                          79330 non-null  int64  \n",
      " 4   children                        79330 non-null  float64\n",
      " 5   babies                          79330 non-null  int64  \n",
      " 6   meal                            79330 non-null  int64  \n",
      " 7   market_segment                  79330 non-null  int64  \n",
      " 8   distribution_channel            79330 non-null  int64  \n",
      " 9   is_repeated_guest               79330 non-null  int64  \n",
      " 10  previous_cancellations          79330 non-null  int64  \n",
      " 11  previous_bookings_not_canceled  79330 non-null  int64  \n",
      " 12  booking_changes                 79330 non-null  int64  \n",
      " 13  deposit_type                    79330 non-null  int64  \n",
      " 14  days_in_waiting_list            79330 non-null  int64  \n",
      " 15  customer_type                   79330 non-null  int64  \n",
      " 16  required_car_parking_spaces     79330 non-null  int64  \n",
      " 17  total_of_special_requests       79330 non-null  int64  \n",
      " 18  different_assigned_room         79330 non-null  int64  \n",
      "dtypes: float64(1), int64(18)\n",
      "memory usage: 11.5 MB\n"
     ]
    }
   ],
   "source": [
    "bookings.info()"
   ]
  },
  {
   "cell_type": "code",
   "execution_count": 135,
   "metadata": {},
   "outputs": [
    {
     "data": {
      "text/plain": [
       "is_canceled                       0\n",
       "lead_time                         0\n",
       "stays_in_week_nights              0\n",
       "adults                            0\n",
       "children                          0\n",
       "babies                            0\n",
       "meal                              0\n",
       "market_segment                    0\n",
       "distribution_channel              0\n",
       "is_repeated_guest                 0\n",
       "previous_cancellations            0\n",
       "previous_bookings_not_canceled    0\n",
       "booking_changes                   0\n",
       "deposit_type                      0\n",
       "days_in_waiting_list              0\n",
       "customer_type                     0\n",
       "required_car_parking_spaces       0\n",
       "total_of_special_requests         0\n",
       "different_assigned_room           0\n",
       "dtype: int64"
      ]
     },
     "execution_count": 135,
     "metadata": {},
     "output_type": "execute_result"
    }
   ],
   "source": [
    "bookings.isnull().sum()"
   ]
  },
  {
   "cell_type": "code",
   "execution_count": 136,
   "metadata": {},
   "outputs": [],
   "source": [
    "#bookings['children'] = bookings['children'].fillna(0) # replace null with 0 "
   ]
  },
  {
   "cell_type": "code",
   "execution_count": 137,
   "metadata": {},
   "outputs": [
    {
     "data": {
      "image/png": "[encoded data removed]",
      "text/plain": [
       "<Figure size 504x504 with 1 Axes>"
      ]
     },
     "metadata": {},
     "output_type": "display_data"
    }
   ],
   "source": [
    "import matplotlib.pyplot as plt #benchmark cancellation rate for h2\n",
    "piedata = bookings['is_canceled'].value_counts()\n",
    "name=piedata.index.tolist()\n",
    "my_labels = name\n",
    "my_colors = ['lightblue','lavender'] # custom colors\n",
    "my_explode = (0.1,0) # custom effects\n",
    "plt.figure(figsize=(7,7)) #custom size for the pie chart\n",
    "piedata.plot.pie(autopct=\"%.1f%%\",colors=my_colors,explode=my_explode,shadow=True,labels=my_labels) #pie chart creation\n",
    "plt.title(\"Cancellation Rate for H2\")\n",
    "plt.show() # displaying only chart without the extra information"
   ]
  },
  {
   "cell_type": "code",
   "execution_count": 138,
   "metadata": {},
   "outputs": [
    {
     "name": "stdout",
     "output_type": "stream",
     "text": [
      "<class 'pandas.core.frame.DataFrame'>\n",
      "RangeIndex: 79330 entries, 0 to 79329\n",
      "Data columns (total 18 columns):\n",
      " #   Column                          Non-Null Count  Dtype  \n",
      "---  ------                          --------------  -----  \n",
      " 0   lead_time                       79330 non-null  int64  \n",
      " 1   stays_in_week_nights            79330 non-null  int64  \n",
      " 2   adults                          79330 non-null  int64  \n",
      " 3   children                        79330 non-null  float64\n",
      " 4   babies                          79330 non-null  int64  \n",
      " 5   meal                            79330 non-null  int64  \n",
      " 6   market_segment                  79330 non-null  int64  \n",
      " 7   distribution_channel            79330 non-null  int64  \n",
      " 8   is_repeated_guest               79330 non-null  int64  \n",
      " 9   previous_cancellations          79330 non-null  int64  \n",
      " 10  previous_bookings_not_canceled  79330 non-null  int64  \n",
      " 11  booking_changes                 79330 non-null  int64  \n",
      " 12  deposit_type                    79330 non-null  int64  \n",
      " 13  days_in_waiting_list            79330 non-null  int64  \n",
      " 14  customer_type                   79330 non-null  int64  \n",
      " 15  required_car_parking_spaces     79330 non-null  int64  \n",
      " 16  total_of_special_requests       79330 non-null  int64  \n",
      " 17  different_assigned_room         79330 non-null  int64  \n",
      "dtypes: float64(1), int64(17)\n",
      "memory usage: 10.9 MB\n"
     ]
    }
   ],
   "source": [
    "X=bookings.iloc[:, [1,2,3,4,5,6,7,8,9,10,11,12,13,14,15,16,17,18]] \n",
    "X.info()"
   ]
  },
  {
   "cell_type": "code",
   "execution_count": 139,
   "metadata": {},
   "outputs": [],
   "source": [
    "#X=X.astype({\"children\": int})"
   ]
  },
  {
   "cell_type": "code",
   "execution_count": 140,
   "metadata": {},
   "outputs": [
    {
     "name": "stdout",
     "output_type": "stream",
     "text": [
      "<class 'pandas.core.frame.DataFrame'>\n",
      "RangeIndex: 79330 entries, 0 to 79329\n",
      "Data columns (total 1 columns):\n",
      " #   Column       Non-Null Count  Dtype\n",
      "---  ------       --------------  -----\n",
      " 0   is_canceled  79330 non-null  int64\n",
      "dtypes: int64(1)\n",
      "memory usage: 619.9 KB\n"
     ]
    }
   ],
   "source": [
    "Y = bookings.iloc[:,[0]]\n",
    "Y.info()"
   ]
  },
  {
   "cell_type": "code",
   "execution_count": 141,
   "metadata": {},
   "outputs": [],
   "source": [
    "from sklearn.model_selection import train_test_split\n",
    "X_train, X_test, Y_train, Y_test = train_test_split(X, Y, test_size=0.3)"
   ]
  },
  {
   "cell_type": "code",
   "execution_count": 142,
   "metadata": {
    "scrolled": true
   },
   "outputs": [
    {
     "data": {
      "text/plain": [
       "RandomForestClassifier()"
      ]
     },
     "execution_count": 142,
     "metadata": {},
     "output_type": "execute_result"
    }
   ],
   "source": [
    "from sklearn.ensemble import RandomForestClassifier\n",
    "rf=RandomForestClassifier() #default parameters without explanation\n",
    "import numpy as np\n",
    "rf.fit(X_train,np.ravel(Y_train))"
   ]
  },
  {
   "cell_type": "code",
   "execution_count": 143,
   "metadata": {},
   "outputs": [],
   "source": [
    "Y_pred=rf.predict(X_test) # predictions for test data set"
   ]
  },
  {
   "cell_type": "code",
   "execution_count": 144,
   "metadata": {},
   "outputs": [
    {
     "name": "stdout",
     "output_type": "stream",
     "text": [
      "Accuracy: 82.62%\n"
     ]
    }
   ],
   "source": [
    "#Import scikit-learn metrics module for accuracy calculation\n",
    "from sklearn import metrics\n",
    "# Model Accuracy, how often is the classifier correct?\n",
    "accuracy = metrics.accuracy_score(Y_test, Y_pred)\n",
    "print(\"Accuracy: %.2f%%\" % (accuracy * 100.0))"
   ]
  },
  {
   "cell_type": "code",
   "execution_count": 145,
   "metadata": {},
   "outputs": [],
   "source": [
    "from sklearn.model_selection import cross_val_score\n",
    "from sklearn.metrics import classification_report, confusion_matrix"
   ]
  },
  {
   "cell_type": "code",
   "execution_count": 37,
   "metadata": {},
   "outputs": [
    {
     "name": "stdout",
     "output_type": "stream",
     "text": [
      "Mean AUC Score - Random Forest:  0.7966621321614912\n"
     ]
    }
   ],
   "source": [
    "rf_score = cross_val_score(rf, X, np.ravel(Y), cv=10, scoring='roc_auc') # eval random forest\n",
    "print(\"Mean AUC Score - Random Forest: \", rf_score.mean())"
   ]
  },
  {
   "cell_type": "code",
   "execution_count": 146,
   "metadata": {},
   "outputs": [
    {
     "name": "stdout",
     "output_type": "stream",
     "text": [
      "[[12052  1756]\n",
      " [ 2381  7610]]\n"
     ]
    }
   ],
   "source": [
    "print(confusion_matrix(Y_test, Y_pred))"
   ]
  },
  {
   "cell_type": "code",
   "execution_count": 147,
   "metadata": {},
   "outputs": [
    {
     "name": "stdout",
     "output_type": "stream",
     "text": [
      "              precision    recall  f1-score   support\n",
      "\n",
      "           0       0.84      0.87      0.85     13808\n",
      "           1       0.81      0.76      0.79      9991\n",
      "\n",
      "    accuracy                           0.83     23799\n",
      "   macro avg       0.82      0.82      0.82     23799\n",
      "weighted avg       0.83      0.83      0.83     23799\n",
      "\n"
     ]
    }
   ],
   "source": [
    "print(classification_report(Y_test, Y_pred))"
   ]
  },
  {
   "cell_type": "code",
   "execution_count": 148,
   "metadata": {},
   "outputs": [
    {
     "data": {
      "text/plain": [
       "0    14433\n",
       "1     9366\n",
       "Name: Is_Canceled, dtype: int64"
      ]
     },
     "execution_count": 148,
     "metadata": {},
     "output_type": "execute_result"
    }
   ],
   "source": [
    "df = pd.DataFrame(data=Y_pred, columns=[\"Is_Canceled\"])\n",
    "df['Is_Canceled'].value_counts()"
   ]
  },
  {
   "cell_type": "code",
   "execution_count": 149,
   "metadata": {},
   "outputs": [
    {
     "data": {
      "image/png": "[encoded data removed]",
      "text/plain": [
       "<Figure size 504x504 with 1 Axes>"
      ]
     },
     "metadata": {},
     "output_type": "display_data"
    }
   ],
   "source": [
    "piedata = df['Is_Canceled'].value_counts()  # cancellation rate for pred based on test data set\n",
    "my_colors = ['lightblue','lavender'] # custom colors\n",
    "my_explode = (0.1,0) # custom effects\n",
    "plt.figure(figsize=(7,7)) #custom size for the pie chart\n",
    "piedata.plot.pie(autopct=\"%.1f%%\",colors=my_colors,explode=my_explode,shadow=True) #pie chart creation\n",
    "plt.title(\"Cancellation rate for H2, random forest classifier using test data set\")\n",
    "plt.show() # displaying only chart without the extra information"
   ]
  },
  {
   "cell_type": "code",
   "execution_count": 150,
   "metadata": {},
   "outputs": [
    {
     "name": "stdout",
     "output_type": "stream",
     "text": [
      "<class 'pandas.core.frame.DataFrame'>\n",
      "RangeIndex: 79330 entries, 0 to 79329\n",
      "Data columns (total 18 columns):\n",
      " #   Column                          Non-Null Count  Dtype  \n",
      "---  ------                          --------------  -----  \n",
      " 0   lead_time                       79330 non-null  int64  \n",
      " 1   stays_in_week_nights            79330 non-null  int64  \n",
      " 2   adults                          79330 non-null  int64  \n",
      " 3   children                        79330 non-null  float64\n",
      " 4   babies                          79330 non-null  int64  \n",
      " 5   meal                            79330 non-null  int64  \n",
      " 6   market_segment                  79330 non-null  int64  \n",
      " 7   distribution_channel            79330 non-null  int64  \n",
      " 8   is_repeated_guest               79330 non-null  int64  \n",
      " 9   previous_cancellations          79330 non-null  int64  \n",
      " 10  previous_bookings_not_canceled  79330 non-null  int64  \n",
      " 11  booking_changes                 79330 non-null  int64  \n",
      " 12  deposit_type                    79330 non-null  int64  \n",
      " 13  days_in_waiting_list            79330 non-null  int64  \n",
      " 14  customer_type                   79330 non-null  int64  \n",
      " 15  required_car_parking_spaces     79330 non-null  int64  \n",
      " 16  total_of_special_requests       79330 non-null  int64  \n",
      " 17  different_assigned_room         79330 non-null  int64  \n",
      "dtypes: float64(1), int64(17)\n",
      "memory usage: 10.9 MB\n"
     ]
    }
   ],
   "source": [
    "whatif_leadtime = X.copy()\n",
    "whatif_leadtime.loc[whatif_leadtime.lead_time !=569874574,\"lead_time\"] = 10\n",
    "whatif_leadtime.info()"
   ]
  },
  {
   "cell_type": "code",
   "execution_count": 151,
   "metadata": {},
   "outputs": [
    {
     "data": {
      "text/plain": [
       "10    79330\n",
       "Name: lead_time, dtype: int64"
      ]
     },
     "execution_count": 151,
     "metadata": {},
     "output_type": "execute_result"
    }
   ],
   "source": [
    "whatif_leadtime['lead_time'].value_counts()\n"
   ]
  },
  {
   "cell_type": "code",
   "execution_count": 152,
   "metadata": {},
   "outputs": [
    {
     "name": "stdout",
     "output_type": "stream",
     "text": [
      "<class 'pandas.core.frame.DataFrame'>\n",
      "RangeIndex: 79330 entries, 0 to 79329\n",
      "Data columns (total 18 columns):\n",
      " #   Column                          Non-Null Count  Dtype  \n",
      "---  ------                          --------------  -----  \n",
      " 0   lead_time                       79330 non-null  int64  \n",
      " 1   stays_in_week_nights            79330 non-null  int64  \n",
      " 2   adults                          79330 non-null  int64  \n",
      " 3   children                        79330 non-null  float64\n",
      " 4   babies                          79330 non-null  int64  \n",
      " 5   meal                            79330 non-null  int64  \n",
      " 6   market_segment                  79330 non-null  int64  \n",
      " 7   distribution_channel            79330 non-null  int64  \n",
      " 8   is_repeated_guest               79330 non-null  int64  \n",
      " 9   previous_cancellations          79330 non-null  int64  \n",
      " 10  previous_bookings_not_canceled  79330 non-null  int64  \n",
      " 11  booking_changes                 79330 non-null  int64  \n",
      " 12  deposit_type                    79330 non-null  int64  \n",
      " 13  days_in_waiting_list            79330 non-null  int64  \n",
      " 14  customer_type                   79330 non-null  int64  \n",
      " 15  required_car_parking_spaces     79330 non-null  int64  \n",
      " 16  total_of_special_requests       79330 non-null  int64  \n",
      " 17  different_assigned_room         79330 non-null  int64  \n",
      "dtypes: float64(1), int64(17)\n",
      "memory usage: 10.9 MB\n"
     ]
    }
   ],
   "source": [
    "#whatif_leadtime=whatif_leadtime.astype({\"lead_time\": int})\n",
    "whatif_leadtime.info()"
   ]
  },
  {
   "cell_type": "code",
   "execution_count": 153,
   "metadata": {},
   "outputs": [],
   "source": [
    "LT_pred = rf.predict(whatif_leadtime) # predictions for what-if data with lead time = 10"
   ]
  },
  {
   "cell_type": "code",
   "execution_count": 154,
   "metadata": {},
   "outputs": [
    {
     "data": {
      "text/plain": [
       "0    51007\n",
       "1    28323\n",
       "Name: Is_Canceled, dtype: int64"
      ]
     },
     "execution_count": 154,
     "metadata": {},
     "output_type": "execute_result"
    }
   ],
   "source": [
    "df = pd.DataFrame(data=LT_pred, columns=[\"Is_Canceled\"])\n",
    "df['Is_Canceled'].value_counts()"
   ]
  },
  {
   "cell_type": "code",
   "execution_count": 155,
   "metadata": {},
   "outputs": [
    {
     "data": {
      "image/png": "[encoded data removed]",
      "text/plain": [
       "<Figure size 504x504 with 1 Axes>"
      ]
     },
     "metadata": {},
     "output_type": "display_data"
    }
   ],
   "source": [
    "piedata = df['Is_Canceled'].value_counts()  # cancellation rate for pred based on test data set\n",
    "my_colors = ['lightblue','lavender'] # custom colors\n",
    "my_explode = (0.1,0) # custom effects\n",
    "plt.figure(figsize=(7,7)) #custom size for the pie chart\n",
    "piedata.plot.pie(autopct=\"%.1f%%\",colors=my_colors,explode=my_explode,shadow=True) #pie chart creation\n",
    "plt.title(\"Cancellation rate for H2, random forest classifier using test data set\")\n",
    "plt.show() # displaying only chart without the extra information"
   ]
  },
  {
   "cell_type": "code",
   "execution_count": 156,
   "metadata": {},
   "outputs": [
    {
     "name": "stdout",
     "output_type": "stream",
     "text": [
      "Accuracy: 78.52%\n"
     ]
    }
   ],
   "source": [
    "accuracy = metrics.accuracy_score(Y, LT_pred)\n",
    "print(\"Accuracy: %.2f%%\" % (accuracy * 100.0))"
   ]
  },
  {
   "cell_type": "code",
   "execution_count": 158,
   "metadata": {},
   "outputs": [
    {
     "data": {
      "text/plain": [
       "4    68945\n",
       "2     6780\n",
       "1     3408\n",
       "3      193\n",
       "5        4\n",
       "Name: distribution_channel, dtype: int64"
      ]
     },
     "execution_count": 158,
     "metadata": {},
     "output_type": "execute_result"
    }
   ],
   "source": [
    "whatif_channel = X.copy()\n",
    "\n",
    "whatif_channel['distribution_channel'].value_counts()"
   ]
  },
  {
   "cell_type": "code",
   "execution_count": 159,
   "metadata": {},
   "outputs": [
    {
     "data": {
      "text/plain": [
       "2    79330\n",
       "Name: distribution_channel, dtype: int64"
      ]
     },
     "execution_count": 159,
     "metadata": {},
     "output_type": "execute_result"
    }
   ],
   "source": [
    "whatif_channel.loc[whatif_channel.distribution_channel==1,\"distribution_channel\"] = 2\n",
    "whatif_channel.loc[whatif_channel.distribution_channel==2,\"distribution_channel\"] = 2\n",
    "whatif_channel.loc[whatif_channel.distribution_channel==3,\"distribution_channel\"] = 2\n",
    "whatif_channel.loc[whatif_channel.distribution_channel==4,\"distribution_channel\"] = 2\n",
    "whatif_channel.loc[whatif_channel.distribution_channel==5,\"distribution_channel\"] = 2\n",
    "\n",
    "whatif_channel['distribution_channel'].value_counts()"
   ]
  },
  {
   "cell_type": "code",
   "execution_count": 160,
   "metadata": {},
   "outputs": [
    {
     "name": "stdout",
     "output_type": "stream",
     "text": [
      "<class 'pandas.core.frame.DataFrame'>\n",
      "RangeIndex: 79330 entries, 0 to 79329\n",
      "Data columns (total 18 columns):\n",
      " #   Column                          Non-Null Count  Dtype  \n",
      "---  ------                          --------------  -----  \n",
      " 0   lead_time                       79330 non-null  int64  \n",
      " 1   stays_in_week_nights            79330 non-null  int64  \n",
      " 2   adults                          79330 non-null  int64  \n",
      " 3   children                        79330 non-null  float64\n",
      " 4   babies                          79330 non-null  int64  \n",
      " 5   meal                            79330 non-null  int64  \n",
      " 6   market_segment                  79330 non-null  int64  \n",
      " 7   distribution_channel            79330 non-null  int64  \n",
      " 8   is_repeated_guest               79330 non-null  int64  \n",
      " 9   previous_cancellations          79330 non-null  int64  \n",
      " 10  previous_bookings_not_canceled  79330 non-null  int64  \n",
      " 11  booking_changes                 79330 non-null  int64  \n",
      " 12  deposit_type                    79330 non-null  int64  \n",
      " 13  days_in_waiting_list            79330 non-null  int64  \n",
      " 14  customer_type                   79330 non-null  int64  \n",
      " 15  required_car_parking_spaces     79330 non-null  int64  \n",
      " 16  total_of_special_requests       79330 non-null  int64  \n",
      " 17  different_assigned_room         79330 non-null  int64  \n",
      "dtypes: float64(1), int64(17)\n",
      "memory usage: 10.9 MB\n"
     ]
    }
   ],
   "source": [
    "#whatif_channel=whatif_channel.astype({\"distribution_channel\": int})\n",
    "whatif_leadtime.info()"
   ]
  },
  {
   "cell_type": "code",
   "execution_count": 161,
   "metadata": {},
   "outputs": [
    {
     "data": {
      "image/png": "[encoded data removed]",
      "text/plain": [
       "<Figure size 504x504 with 1 Axes>"
      ]
     },
     "metadata": {},
     "output_type": "display_data"
    }
   ],
   "source": [
    "DC_pred = rf.predict(whatif_channel)\n",
    "df = pd.DataFrame(data=DC_pred, columns=[\"Is_Canceled\"])\n",
    "df['Is_Canceled'].value_counts()\n",
    "piedata = df['Is_Canceled'].value_counts()  # cancellation rate for pred based on test data set\n",
    "my_colors = ['lightblue','lavender'] # custom colors\n",
    "my_explode = (0.1,0) # custom effects\n",
    "plt.figure(figsize=(7,7)) #custom size for the pie chart\n",
    "piedata.plot.pie(autopct=\"%.1f%%\",colors=my_colors,explode=my_explode,shadow=True) #pie chart creation\n",
    "plt.title(\"Cancellation rate for H2, random forest classifier using test data set\")\n",
    "plt.show() # displaying only chart without the extra information"
   ]
  },
  {
   "cell_type": "code",
   "execution_count": 162,
   "metadata": {},
   "outputs": [
    {
     "name": "stdout",
     "output_type": "stream",
     "text": [
      "Accuracy: 82.19%\n"
     ]
    }
   ],
   "source": [
    "accuracy = metrics.accuracy_score(Y, DC_pred)\n",
    "print(\"Accuracy: %.2f%%\" % (accuracy * 100.0))"
   ]
  },
  {
   "cell_type": "code",
   "execution_count": 163,
   "metadata": {},
   "outputs": [
    {
     "data": {
      "text/plain": [
       "1    66442\n",
       "2    12868\n",
       "3       20\n",
       "Name: deposit_type, dtype: int64"
      ]
     },
     "execution_count": 163,
     "metadata": {},
     "output_type": "execute_result"
    }
   ],
   "source": [
    "whatif_paid = X.copy()\n",
    "whatif_paid['deposit_type'].value_counts()"
   ]
  },
  {
   "cell_type": "code",
   "execution_count": 164,
   "metadata": {},
   "outputs": [
    {
     "data": {
      "text/plain": [
       "1    79330\n",
       "Name: deposit_type, dtype: int64"
      ]
     },
     "execution_count": 164,
     "metadata": {},
     "output_type": "execute_result"
    }
   ],
   "source": [
    "\n",
    "whatif_paid.loc[whatif_paid.deposit_type==1,\"deposit_type\"] = 1\n",
    "whatif_paid.loc[whatif_paid.deposit_type==2,\"deposit_type\"] = 1\n",
    "whatif_paid.loc[whatif_paid.deposit_type==3,\"deposit_type\"] = 1\n",
    "whatif_paid['deposit_type'].value_counts()\n"
   ]
  },
  {
   "cell_type": "code",
   "execution_count": 165,
   "metadata": {},
   "outputs": [
    {
     "name": "stdout",
     "output_type": "stream",
     "text": [
      "<class 'pandas.core.frame.DataFrame'>\n",
      "RangeIndex: 79330 entries, 0 to 79329\n",
      "Data columns (total 18 columns):\n",
      " #   Column                          Non-Null Count  Dtype  \n",
      "---  ------                          --------------  -----  \n",
      " 0   lead_time                       79330 non-null  int64  \n",
      " 1   stays_in_week_nights            79330 non-null  int64  \n",
      " 2   adults                          79330 non-null  int64  \n",
      " 3   children                        79330 non-null  float64\n",
      " 4   babies                          79330 non-null  int64  \n",
      " 5   meal                            79330 non-null  int64  \n",
      " 6   market_segment                  79330 non-null  int64  \n",
      " 7   distribution_channel            79330 non-null  int64  \n",
      " 8   is_repeated_guest               79330 non-null  int64  \n",
      " 9   previous_cancellations          79330 non-null  int64  \n",
      " 10  previous_bookings_not_canceled  79330 non-null  int64  \n",
      " 11  booking_changes                 79330 non-null  int64  \n",
      " 12  deposit_type                    79330 non-null  int64  \n",
      " 13  days_in_waiting_list            79330 non-null  int64  \n",
      " 14  customer_type                   79330 non-null  int64  \n",
      " 15  required_car_parking_spaces     79330 non-null  int64  \n",
      " 16  total_of_special_requests       79330 non-null  int64  \n",
      " 17  different_assigned_room         79330 non-null  int64  \n",
      "dtypes: float64(1), int64(17)\n",
      "memory usage: 10.9 MB\n"
     ]
    }
   ],
   "source": [
    "#whatif_paid=whatif_paid.astype({\"deposit_type\": int})\n",
    "whatif_paid.info()"
   ]
  },
  {
   "cell_type": "code",
   "execution_count": 166,
   "metadata": {},
   "outputs": [
    {
     "data": {
      "image/png": "[encoded data removed]",
      "text/plain": [
       "<Figure size 504x504 with 1 Axes>"
      ]
     },
     "metadata": {},
     "output_type": "display_data"
    }
   ],
   "source": [
    "DT_pred = rf.predict(whatif_paid)\n",
    "df = pd.DataFrame(data=DT_pred, columns=[\"Is_Canceled\"])\n",
    "df['Is_Canceled'].value_counts()\n",
    "piedata = df['Is_Canceled'].value_counts()  # cancellation rate for pred based on test data set\n",
    "my_colors = ['lightblue','lavender'] # custom colors\n",
    "my_explode = (0.1,0) # custom effects\n",
    "plt.figure(figsize=(7,7)) #custom size for the pie chart\n",
    "piedata.plot.pie(autopct=\"%.1f%%\",colors=my_colors,explode=my_explode,shadow=True) #pie chart creation\n",
    "plt.title(\"Cancellation rate for H2, random forest classifier using test data set\")\n",
    "plt.show() # displaying only chart without the extra information"
   ]
  },
  {
   "cell_type": "code",
   "execution_count": 168,
   "metadata": {},
   "outputs": [
    {
     "name": "stdout",
     "output_type": "stream",
     "text": [
      "Accuracy: 82.92%\n"
     ]
    }
   ],
   "source": [
    "accuracy = metrics.accuracy_score(Y, DT_pred)\n",
    "print(\"Accuracy: %.2f%%\" % (accuracy * 100.0))"
   ]
  },
  {
   "cell_type": "code",
   "execution_count": null,
   "metadata": {},
   "outputs": [],
   "source": []
  }
 ],
 "metadata": {
  "kernelspec": {
   "display_name": "Python 3",
   "language": "python",
   "name": "python3"
  },
  "language_info": {
   "codemirror_mode": {
    "name": "ipython",
    "version": 3
   },
   "file_extension": ".py",
   "mimetype": "text/x-python",
   "name": "python",
   "nbconvert_exporter": "python",
   "pygments_lexer": "ipython3",
   "version": "3.8.3"
  }
 },
 "nbformat": 4,
 "nbformat_minor": 4
}
