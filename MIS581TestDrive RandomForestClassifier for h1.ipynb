{
 "cells": [
  {
   "cell_type": "code",
   "execution_count": 168,
   "metadata": {},
   "outputs": [
    {
     "data": {
      "text/html": [
       "<div>\n",
       "<style scoped>\n",
       "    .dataframe tbody tr th:only-of-type {\n",
       "        vertical-align: middle;\n",
       "    }\n",
       "\n",
       "    .dataframe tbody tr th {\n",
       "        vertical-align: top;\n",
       "    }\n",
       "\n",
       "    .dataframe thead th {\n",
       "        text-align: right;\n",
       "    }\n",
       "</style>\n",
       "<table border=\"1\" class=\"dataframe\">\n",
       "  <thead>\n",
       "    <tr style=\"text-align: right;\">\n",
       "      <th></th>\n",
       "      <th>is_canceled</th>\n",
       "      <th>lead_time</th>\n",
       "      <th>arrival_date_year</th>\n",
       "      <th>arrival_date_month</th>\n",
       "      <th>arrival_date_week_number</th>\n",
       "      <th>stays_in_weekend_nights</th>\n",
       "      <th>stays_in_week_nights</th>\n",
       "      <th>adults</th>\n",
       "      <th>children</th>\n",
       "      <th>babies</th>\n",
       "      <th>...</th>\n",
       "      <th>is_repeated_guest</th>\n",
       "      <th>previous_cancellations</th>\n",
       "      <th>previous_bookings_not_canceled</th>\n",
       "      <th>booking_changes</th>\n",
       "      <th>deposit_type</th>\n",
       "      <th>days_in_waiting_list</th>\n",
       "      <th>adr</th>\n",
       "      <th>required_car_parking_spaces</th>\n",
       "      <th>total_of_special_requests</th>\n",
       "      <th>different_assigned_room</th>\n",
       "    </tr>\n",
       "  </thead>\n",
       "  <tbody>\n",
       "    <tr>\n",
       "      <th>0</th>\n",
       "      <td>0</td>\n",
       "      <td>342</td>\n",
       "      <td>2015</td>\n",
       "      <td>7</td>\n",
       "      <td>27</td>\n",
       "      <td>0</td>\n",
       "      <td>0</td>\n",
       "      <td>2</td>\n",
       "      <td>0.0</td>\n",
       "      <td>0</td>\n",
       "      <td>...</td>\n",
       "      <td>0</td>\n",
       "      <td>0</td>\n",
       "      <td>0</td>\n",
       "      <td>3</td>\n",
       "      <td>1</td>\n",
       "      <td>0</td>\n",
       "      <td>0.00</td>\n",
       "      <td>0</td>\n",
       "      <td>0</td>\n",
       "      <td>0</td>\n",
       "    </tr>\n",
       "    <tr>\n",
       "      <th>1</th>\n",
       "      <td>0</td>\n",
       "      <td>737</td>\n",
       "      <td>2015</td>\n",
       "      <td>7</td>\n",
       "      <td>27</td>\n",
       "      <td>0</td>\n",
       "      <td>0</td>\n",
       "      <td>2</td>\n",
       "      <td>0.0</td>\n",
       "      <td>0</td>\n",
       "      <td>...</td>\n",
       "      <td>0</td>\n",
       "      <td>0</td>\n",
       "      <td>0</td>\n",
       "      <td>4</td>\n",
       "      <td>1</td>\n",
       "      <td>0</td>\n",
       "      <td>0.00</td>\n",
       "      <td>0</td>\n",
       "      <td>0</td>\n",
       "      <td>0</td>\n",
       "    </tr>\n",
       "    <tr>\n",
       "      <th>2</th>\n",
       "      <td>0</td>\n",
       "      <td>7</td>\n",
       "      <td>2015</td>\n",
       "      <td>7</td>\n",
       "      <td>27</td>\n",
       "      <td>0</td>\n",
       "      <td>1</td>\n",
       "      <td>1</td>\n",
       "      <td>0.0</td>\n",
       "      <td>0</td>\n",
       "      <td>...</td>\n",
       "      <td>0</td>\n",
       "      <td>0</td>\n",
       "      <td>0</td>\n",
       "      <td>0</td>\n",
       "      <td>1</td>\n",
       "      <td>0</td>\n",
       "      <td>75.00</td>\n",
       "      <td>0</td>\n",
       "      <td>0</td>\n",
       "      <td>1</td>\n",
       "    </tr>\n",
       "    <tr>\n",
       "      <th>3</th>\n",
       "      <td>0</td>\n",
       "      <td>13</td>\n",
       "      <td>2015</td>\n",
       "      <td>7</td>\n",
       "      <td>27</td>\n",
       "      <td>0</td>\n",
       "      <td>1</td>\n",
       "      <td>1</td>\n",
       "      <td>0.0</td>\n",
       "      <td>0</td>\n",
       "      <td>...</td>\n",
       "      <td>0</td>\n",
       "      <td>0</td>\n",
       "      <td>0</td>\n",
       "      <td>0</td>\n",
       "      <td>1</td>\n",
       "      <td>0</td>\n",
       "      <td>75.00</td>\n",
       "      <td>0</td>\n",
       "      <td>0</td>\n",
       "      <td>0</td>\n",
       "    </tr>\n",
       "    <tr>\n",
       "      <th>4</th>\n",
       "      <td>0</td>\n",
       "      <td>14</td>\n",
       "      <td>2015</td>\n",
       "      <td>7</td>\n",
       "      <td>27</td>\n",
       "      <td>0</td>\n",
       "      <td>2</td>\n",
       "      <td>2</td>\n",
       "      <td>0.0</td>\n",
       "      <td>0</td>\n",
       "      <td>...</td>\n",
       "      <td>0</td>\n",
       "      <td>0</td>\n",
       "      <td>0</td>\n",
       "      <td>0</td>\n",
       "      <td>1</td>\n",
       "      <td>0</td>\n",
       "      <td>98.00</td>\n",
       "      <td>0</td>\n",
       "      <td>1</td>\n",
       "      <td>0</td>\n",
       "    </tr>\n",
       "    <tr>\n",
       "      <th>5</th>\n",
       "      <td>0</td>\n",
       "      <td>14</td>\n",
       "      <td>2015</td>\n",
       "      <td>7</td>\n",
       "      <td>27</td>\n",
       "      <td>0</td>\n",
       "      <td>2</td>\n",
       "      <td>2</td>\n",
       "      <td>0.0</td>\n",
       "      <td>0</td>\n",
       "      <td>...</td>\n",
       "      <td>0</td>\n",
       "      <td>0</td>\n",
       "      <td>0</td>\n",
       "      <td>0</td>\n",
       "      <td>1</td>\n",
       "      <td>0</td>\n",
       "      <td>98.00</td>\n",
       "      <td>0</td>\n",
       "      <td>1</td>\n",
       "      <td>0</td>\n",
       "    </tr>\n",
       "    <tr>\n",
       "      <th>6</th>\n",
       "      <td>0</td>\n",
       "      <td>0</td>\n",
       "      <td>2015</td>\n",
       "      <td>7</td>\n",
       "      <td>27</td>\n",
       "      <td>0</td>\n",
       "      <td>2</td>\n",
       "      <td>2</td>\n",
       "      <td>0.0</td>\n",
       "      <td>0</td>\n",
       "      <td>...</td>\n",
       "      <td>0</td>\n",
       "      <td>0</td>\n",
       "      <td>0</td>\n",
       "      <td>0</td>\n",
       "      <td>1</td>\n",
       "      <td>0</td>\n",
       "      <td>107.00</td>\n",
       "      <td>0</td>\n",
       "      <td>0</td>\n",
       "      <td>0</td>\n",
       "    </tr>\n",
       "    <tr>\n",
       "      <th>7</th>\n",
       "      <td>0</td>\n",
       "      <td>9</td>\n",
       "      <td>2015</td>\n",
       "      <td>7</td>\n",
       "      <td>27</td>\n",
       "      <td>0</td>\n",
       "      <td>2</td>\n",
       "      <td>2</td>\n",
       "      <td>0.0</td>\n",
       "      <td>0</td>\n",
       "      <td>...</td>\n",
       "      <td>0</td>\n",
       "      <td>0</td>\n",
       "      <td>0</td>\n",
       "      <td>0</td>\n",
       "      <td>1</td>\n",
       "      <td>0</td>\n",
       "      <td>103.00</td>\n",
       "      <td>0</td>\n",
       "      <td>1</td>\n",
       "      <td>0</td>\n",
       "    </tr>\n",
       "    <tr>\n",
       "      <th>8</th>\n",
       "      <td>1</td>\n",
       "      <td>85</td>\n",
       "      <td>2015</td>\n",
       "      <td>7</td>\n",
       "      <td>27</td>\n",
       "      <td>0</td>\n",
       "      <td>3</td>\n",
       "      <td>2</td>\n",
       "      <td>0.0</td>\n",
       "      <td>0</td>\n",
       "      <td>...</td>\n",
       "      <td>0</td>\n",
       "      <td>0</td>\n",
       "      <td>0</td>\n",
       "      <td>0</td>\n",
       "      <td>1</td>\n",
       "      <td>0</td>\n",
       "      <td>82.00</td>\n",
       "      <td>0</td>\n",
       "      <td>1</td>\n",
       "      <td>0</td>\n",
       "    </tr>\n",
       "    <tr>\n",
       "      <th>9</th>\n",
       "      <td>1</td>\n",
       "      <td>75</td>\n",
       "      <td>2015</td>\n",
       "      <td>7</td>\n",
       "      <td>27</td>\n",
       "      <td>0</td>\n",
       "      <td>3</td>\n",
       "      <td>2</td>\n",
       "      <td>0.0</td>\n",
       "      <td>0</td>\n",
       "      <td>...</td>\n",
       "      <td>0</td>\n",
       "      <td>0</td>\n",
       "      <td>0</td>\n",
       "      <td>0</td>\n",
       "      <td>1</td>\n",
       "      <td>0</td>\n",
       "      <td>105.50</td>\n",
       "      <td>0</td>\n",
       "      <td>0</td>\n",
       "      <td>0</td>\n",
       "    </tr>\n",
       "    <tr>\n",
       "      <th>10</th>\n",
       "      <td>1</td>\n",
       "      <td>23</td>\n",
       "      <td>2015</td>\n",
       "      <td>7</td>\n",
       "      <td>27</td>\n",
       "      <td>0</td>\n",
       "      <td>4</td>\n",
       "      <td>2</td>\n",
       "      <td>0.0</td>\n",
       "      <td>0</td>\n",
       "      <td>...</td>\n",
       "      <td>0</td>\n",
       "      <td>0</td>\n",
       "      <td>0</td>\n",
       "      <td>0</td>\n",
       "      <td>1</td>\n",
       "      <td>0</td>\n",
       "      <td>123.00</td>\n",
       "      <td>0</td>\n",
       "      <td>0</td>\n",
       "      <td>0</td>\n",
       "    </tr>\n",
       "    <tr>\n",
       "      <th>11</th>\n",
       "      <td>0</td>\n",
       "      <td>35</td>\n",
       "      <td>2015</td>\n",
       "      <td>7</td>\n",
       "      <td>27</td>\n",
       "      <td>0</td>\n",
       "      <td>4</td>\n",
       "      <td>2</td>\n",
       "      <td>0.0</td>\n",
       "      <td>0</td>\n",
       "      <td>...</td>\n",
       "      <td>0</td>\n",
       "      <td>0</td>\n",
       "      <td>0</td>\n",
       "      <td>0</td>\n",
       "      <td>1</td>\n",
       "      <td>0</td>\n",
       "      <td>145.00</td>\n",
       "      <td>0</td>\n",
       "      <td>0</td>\n",
       "      <td>0</td>\n",
       "    </tr>\n",
       "    <tr>\n",
       "      <th>12</th>\n",
       "      <td>0</td>\n",
       "      <td>68</td>\n",
       "      <td>2015</td>\n",
       "      <td>7</td>\n",
       "      <td>27</td>\n",
       "      <td>0</td>\n",
       "      <td>4</td>\n",
       "      <td>2</td>\n",
       "      <td>0.0</td>\n",
       "      <td>0</td>\n",
       "      <td>...</td>\n",
       "      <td>0</td>\n",
       "      <td>0</td>\n",
       "      <td>0</td>\n",
       "      <td>0</td>\n",
       "      <td>1</td>\n",
       "      <td>0</td>\n",
       "      <td>97.00</td>\n",
       "      <td>0</td>\n",
       "      <td>3</td>\n",
       "      <td>1</td>\n",
       "    </tr>\n",
       "    <tr>\n",
       "      <th>13</th>\n",
       "      <td>0</td>\n",
       "      <td>18</td>\n",
       "      <td>2015</td>\n",
       "      <td>7</td>\n",
       "      <td>27</td>\n",
       "      <td>0</td>\n",
       "      <td>4</td>\n",
       "      <td>2</td>\n",
       "      <td>1.0</td>\n",
       "      <td>0</td>\n",
       "      <td>...</td>\n",
       "      <td>0</td>\n",
       "      <td>0</td>\n",
       "      <td>0</td>\n",
       "      <td>1</td>\n",
       "      <td>1</td>\n",
       "      <td>0</td>\n",
       "      <td>154.77</td>\n",
       "      <td>0</td>\n",
       "      <td>1</td>\n",
       "      <td>0</td>\n",
       "    </tr>\n",
       "    <tr>\n",
       "      <th>14</th>\n",
       "      <td>0</td>\n",
       "      <td>37</td>\n",
       "      <td>2015</td>\n",
       "      <td>7</td>\n",
       "      <td>27</td>\n",
       "      <td>0</td>\n",
       "      <td>4</td>\n",
       "      <td>2</td>\n",
       "      <td>0.0</td>\n",
       "      <td>0</td>\n",
       "      <td>...</td>\n",
       "      <td>0</td>\n",
       "      <td>0</td>\n",
       "      <td>0</td>\n",
       "      <td>0</td>\n",
       "      <td>1</td>\n",
       "      <td>0</td>\n",
       "      <td>94.71</td>\n",
       "      <td>0</td>\n",
       "      <td>0</td>\n",
       "      <td>0</td>\n",
       "    </tr>\n",
       "  </tbody>\n",
       "</table>\n",
       "<p>15 rows × 23 columns</p>\n",
       "</div>"
      ],
      "text/plain": [
       "    is_canceled  lead_time  arrival_date_year  arrival_date_month  \\\n",
       "0             0        342               2015                   7   \n",
       "1             0        737               2015                   7   \n",
       "2             0          7               2015                   7   \n",
       "3             0         13               2015                   7   \n",
       "4             0         14               2015                   7   \n",
       "5             0         14               2015                   7   \n",
       "6             0          0               2015                   7   \n",
       "7             0          9               2015                   7   \n",
       "8             1         85               2015                   7   \n",
       "9             1         75               2015                   7   \n",
       "10            1         23               2015                   7   \n",
       "11            0         35               2015                   7   \n",
       "12            0         68               2015                   7   \n",
       "13            0         18               2015                   7   \n",
       "14            0         37               2015                   7   \n",
       "\n",
       "    arrival_date_week_number  stays_in_weekend_nights  stays_in_week_nights  \\\n",
       "0                         27                        0                     0   \n",
       "1                         27                        0                     0   \n",
       "2                         27                        0                     1   \n",
       "3                         27                        0                     1   \n",
       "4                         27                        0                     2   \n",
       "5                         27                        0                     2   \n",
       "6                         27                        0                     2   \n",
       "7                         27                        0                     2   \n",
       "8                         27                        0                     3   \n",
       "9                         27                        0                     3   \n",
       "10                        27                        0                     4   \n",
       "11                        27                        0                     4   \n",
       "12                        27                        0                     4   \n",
       "13                        27                        0                     4   \n",
       "14                        27                        0                     4   \n",
       "\n",
       "    adults  children  babies  ...  is_repeated_guest  previous_cancellations  \\\n",
       "0        2       0.0       0  ...                  0                       0   \n",
       "1        2       0.0       0  ...                  0                       0   \n",
       "2        1       0.0       0  ...                  0                       0   \n",
       "3        1       0.0       0  ...                  0                       0   \n",
       "4        2       0.0       0  ...                  0                       0   \n",
       "5        2       0.0       0  ...                  0                       0   \n",
       "6        2       0.0       0  ...                  0                       0   \n",
       "7        2       0.0       0  ...                  0                       0   \n",
       "8        2       0.0       0  ...                  0                       0   \n",
       "9        2       0.0       0  ...                  0                       0   \n",
       "10       2       0.0       0  ...                  0                       0   \n",
       "11       2       0.0       0  ...                  0                       0   \n",
       "12       2       0.0       0  ...                  0                       0   \n",
       "13       2       1.0       0  ...                  0                       0   \n",
       "14       2       0.0       0  ...                  0                       0   \n",
       "\n",
       "    previous_bookings_not_canceled  booking_changes  deposit_type  \\\n",
       "0                                0                3             1   \n",
       "1                                0                4             1   \n",
       "2                                0                0             1   \n",
       "3                                0                0             1   \n",
       "4                                0                0             1   \n",
       "5                                0                0             1   \n",
       "6                                0                0             1   \n",
       "7                                0                0             1   \n",
       "8                                0                0             1   \n",
       "9                                0                0             1   \n",
       "10                               0                0             1   \n",
       "11                               0                0             1   \n",
       "12                               0                0             1   \n",
       "13                               0                1             1   \n",
       "14                               0                0             1   \n",
       "\n",
       "    days_in_waiting_list     adr  required_car_parking_spaces  \\\n",
       "0                      0    0.00                            0   \n",
       "1                      0    0.00                            0   \n",
       "2                      0   75.00                            0   \n",
       "3                      0   75.00                            0   \n",
       "4                      0   98.00                            0   \n",
       "5                      0   98.00                            0   \n",
       "6                      0  107.00                            0   \n",
       "7                      0  103.00                            0   \n",
       "8                      0   82.00                            0   \n",
       "9                      0  105.50                            0   \n",
       "10                     0  123.00                            0   \n",
       "11                     0  145.00                            0   \n",
       "12                     0   97.00                            0   \n",
       "13                     0  154.77                            0   \n",
       "14                     0   94.71                            0   \n",
       "\n",
       "    total_of_special_requests  different_assigned_room  \n",
       "0                           0                        0  \n",
       "1                           0                        0  \n",
       "2                           0                        1  \n",
       "3                           0                        0  \n",
       "4                           1                        0  \n",
       "5                           1                        0  \n",
       "6                           0                        0  \n",
       "7                           1                        0  \n",
       "8                           1                        0  \n",
       "9                           0                        0  \n",
       "10                          0                        0  \n",
       "11                          0                        0  \n",
       "12                          3                        1  \n",
       "13                          1                        0  \n",
       "14                          0                        0  \n",
       "\n",
       "[15 rows x 23 columns]"
      ]
     },
     "execution_count": 168,
     "metadata": {},
     "output_type": "execute_result"
    }
   ],
   "source": [
    "import pandas as pd # import pandas \n",
    "import os \n",
    "bookings = pd.read_csv(\"/Users/brindamunuswamy/Desktop/MIS581/h1Features.csv\") # read CSV into pandas\n",
    "bookings.head(15) #reading top 5 rows"
   ]
  },
  {
   "cell_type": "code",
   "execution_count": 169,
   "metadata": {},
   "outputs": [
    {
     "name": "stdout",
     "output_type": "stream",
     "text": [
      "<class 'pandas.core.frame.DataFrame'>\n",
      "RangeIndex: 40060 entries, 0 to 40059\n",
      "Data columns (total 23 columns):\n",
      " #   Column                          Non-Null Count  Dtype  \n",
      "---  ------                          --------------  -----  \n",
      " 0   is_canceled                     40060 non-null  int64  \n",
      " 1   lead_time                       40060 non-null  int64  \n",
      " 2   arrival_date_year               40060 non-null  int64  \n",
      " 3   arrival_date_month              40060 non-null  int64  \n",
      " 4   arrival_date_week_number        40060 non-null  int64  \n",
      " 5   stays_in_weekend_nights         40060 non-null  int64  \n",
      " 6   stays_in_week_nights            40060 non-null  int64  \n",
      " 7   adults                          40060 non-null  int64  \n",
      " 8   children                        40060 non-null  float64\n",
      " 9   babies                          40060 non-null  int64  \n",
      " 10  meal                            40060 non-null  int64  \n",
      " 11  market_segment                  40060 non-null  int64  \n",
      " 12  distribution_channel            40060 non-null  int64  \n",
      " 13  is_repeated_guest               40060 non-null  int64  \n",
      " 14  previous_cancellations          40060 non-null  int64  \n",
      " 15  previous_bookings_not_canceled  40060 non-null  int64  \n",
      " 16  booking_changes                 40060 non-null  int64  \n",
      " 17  deposit_type                    40060 non-null  int64  \n",
      " 18  days_in_waiting_list            40060 non-null  int64  \n",
      " 19  adr                             40060 non-null  float64\n",
      " 20  required_car_parking_spaces     40060 non-null  int64  \n",
      " 21  total_of_special_requests       40060 non-null  int64  \n",
      " 22  different_assigned_room         40060 non-null  int64  \n",
      "dtypes: float64(2), int64(21)\n",
      "memory usage: 7.0 MB\n"
     ]
    }
   ],
   "source": [
    "bookings.info()"
   ]
  },
  {
   "cell_type": "code",
   "execution_count": 170,
   "metadata": {},
   "outputs": [
    {
     "data": {
      "text/plain": [
       "is_canceled                       0\n",
       "lead_time                         0\n",
       "arrival_date_year                 0\n",
       "arrival_date_month                0\n",
       "arrival_date_week_number          0\n",
       "stays_in_weekend_nights           0\n",
       "stays_in_week_nights              0\n",
       "adults                            0\n",
       "children                          0\n",
       "babies                            0\n",
       "meal                              0\n",
       "market_segment                    0\n",
       "distribution_channel              0\n",
       "is_repeated_guest                 0\n",
       "previous_cancellations            0\n",
       "previous_bookings_not_canceled    0\n",
       "booking_changes                   0\n",
       "deposit_type                      0\n",
       "days_in_waiting_list              0\n",
       "adr                               0\n",
       "required_car_parking_spaces       0\n",
       "total_of_special_requests         0\n",
       "different_assigned_room           0\n",
       "dtype: int64"
      ]
     },
     "execution_count": 170,
     "metadata": {},
     "output_type": "execute_result"
    }
   ],
   "source": [
    "bookings.isnull().sum()"
   ]
  },
  {
   "cell_type": "code",
   "execution_count": 171,
   "metadata": {},
   "outputs": [],
   "source": [
    "#bookings['children'] = bookings['children'].fillna(0) # replace null with 0 "
   ]
  },
  {
   "cell_type": "code",
   "execution_count": 172,
   "metadata": {},
   "outputs": [
    {
     "data": {
      "image/png": "[encoded data removed]",
      "text/plain": [
       "<Figure size 504x504 with 1 Axes>"
      ]
     },
     "metadata": {},
     "output_type": "display_data"
    }
   ],
   "source": [
    "import matplotlib.pyplot as plt #benchmark cancellation rate for h2\n",
    "piedata = bookings['is_canceled'].value_counts()\n",
    "my_colors = ['lightblue','lavender'] # custom colors\n",
    "my_explode = (0.1,0) # custom effects\n",
    "plt.figure(figsize=(7,7)) #custom size for the pie chart\n",
    "piedata.plot.pie(autopct=\"%.1f%%\",colors=my_colors,explode=my_explode,shadow=True) #pie chart creation\n",
    "plt.title(\"Cancellation Rate for h1\")\n",
    "plt.show() # displaying only chart without the extra information"
   ]
  },
  {
   "cell_type": "code",
   "execution_count": 173,
   "metadata": {},
   "outputs": [
    {
     "name": "stdout",
     "output_type": "stream",
     "text": [
      "<class 'pandas.core.frame.DataFrame'>\n",
      "RangeIndex: 40060 entries, 0 to 40059\n",
      "Data columns (total 22 columns):\n",
      " #   Column                          Non-Null Count  Dtype  \n",
      "---  ------                          --------------  -----  \n",
      " 0   lead_time                       40060 non-null  int64  \n",
      " 1   arrival_date_year               40060 non-null  int64  \n",
      " 2   arrival_date_month              40060 non-null  int64  \n",
      " 3   arrival_date_week_number        40060 non-null  int64  \n",
      " 4   stays_in_weekend_nights         40060 non-null  int64  \n",
      " 5   stays_in_week_nights            40060 non-null  int64  \n",
      " 6   adults                          40060 non-null  int64  \n",
      " 7   children                        40060 non-null  float64\n",
      " 8   babies                          40060 non-null  int64  \n",
      " 9   meal                            40060 non-null  int64  \n",
      " 10  market_segment                  40060 non-null  int64  \n",
      " 11  distribution_channel            40060 non-null  int64  \n",
      " 12  is_repeated_guest               40060 non-null  int64  \n",
      " 13  previous_cancellations          40060 non-null  int64  \n",
      " 14  previous_bookings_not_canceled  40060 non-null  int64  \n",
      " 15  booking_changes                 40060 non-null  int64  \n",
      " 16  deposit_type                    40060 non-null  int64  \n",
      " 17  days_in_waiting_list            40060 non-null  int64  \n",
      " 18  adr                             40060 non-null  float64\n",
      " 19  required_car_parking_spaces     40060 non-null  int64  \n",
      " 20  total_of_special_requests       40060 non-null  int64  \n",
      " 21  different_assigned_room         40060 non-null  int64  \n",
      "dtypes: float64(2), int64(20)\n",
      "memory usage: 6.7 MB\n"
     ]
    }
   ],
   "source": [
    "X=bookings.iloc[:, [1,2,3,4,5,6,7,8,9,10,11,12,13,14,15,16,17,18,19,20,21,22]] \n",
    "X.info()"
   ]
  },
  {
   "cell_type": "code",
   "execution_count": 174,
   "metadata": {},
   "outputs": [],
   "source": [
    "#X=X.astype({\"children\": int})"
   ]
  },
  {
   "cell_type": "code",
   "execution_count": 175,
   "metadata": {},
   "outputs": [
    {
     "name": "stdout",
     "output_type": "stream",
     "text": [
      "<class 'pandas.core.frame.DataFrame'>\n",
      "RangeIndex: 40060 entries, 0 to 40059\n",
      "Data columns (total 1 columns):\n",
      " #   Column       Non-Null Count  Dtype\n",
      "---  ------       --------------  -----\n",
      " 0   is_canceled  40060 non-null  int64\n",
      "dtypes: int64(1)\n",
      "memory usage: 313.1 KB\n"
     ]
    }
   ],
   "source": [
    "Y = bookings.iloc[:,[0]]\n",
    "Y.info()"
   ]
  },
  {
   "cell_type": "code",
   "execution_count": 176,
   "metadata": {},
   "outputs": [],
   "source": [
    "from sklearn.model_selection import train_test_split\n",
    "X_train, X_test, Y_train, Y_test = train_test_split(X, Y, test_size=0.3)"
   ]
  },
  {
   "cell_type": "code",
   "execution_count": 177,
   "metadata": {},
   "outputs": [
    {
     "data": {
      "text/plain": [
       "RandomForestClassifier()"
      ]
     },
     "execution_count": 177,
     "metadata": {},
     "output_type": "execute_result"
    }
   ],
   "source": [
    "from sklearn.ensemble import RandomForestClassifier\n",
    "rf=RandomForestClassifier() #default parameters without explanation\n",
    "import numpy as np\n",
    "rf.fit(X_train,np.ravel(Y_train))"
   ]
  },
  {
   "cell_type": "code",
   "execution_count": 178,
   "metadata": {},
   "outputs": [],
   "source": [
    "Y_pred=rf.predict(X_test) # predictions for test data set"
   ]
  },
  {
   "cell_type": "code",
   "execution_count": 179,
   "metadata": {},
   "outputs": [
    {
     "name": "stdout",
     "output_type": "stream",
     "text": [
      "Accuracy: 87.06%\n"
     ]
    }
   ],
   "source": [
    "#Import scikit-learn metrics module for accuracy calculation\n",
    "from sklearn import metrics\n",
    "# Model Accuracy, how often is the classifier correct?\n",
    "accuracy = metrics.accuracy_score(Y_test, Y_pred)\n",
    "print(\"Accuracy: %.2f%%\" % (accuracy * 100.0))"
   ]
  },
  {
   "cell_type": "code",
   "execution_count": 180,
   "metadata": {},
   "outputs": [],
   "source": [
    "from sklearn.model_selection import cross_val_score\n",
    "from sklearn.metrics import classification_report, confusion_matrix"
   ]
  },
  {
   "cell_type": "code",
   "execution_count": 90,
   "metadata": {},
   "outputs": [
    {
     "name": "stdout",
     "output_type": "stream",
     "text": [
      "Mean AUC Score - Random Forest:  0.35600897491302685\n"
     ]
    }
   ],
   "source": [
    "rf_score = cross_val_score(rf, X, np.ravel(Y), cv=10, scoring='roc_auc') # eval random forest\n",
    "print(\"Mean AUC Score - Random Forest: \", rf_score.mean())"
   ]
  },
  {
   "cell_type": "code",
   "execution_count": 181,
   "metadata": {},
   "outputs": [
    {
     "name": "stdout",
     "output_type": "stream",
     "text": [
      "[[8173  604]\n",
      " [ 951 2290]]\n"
     ]
    }
   ],
   "source": [
    "print(confusion_matrix(Y_test, Y_pred))"
   ]
  },
  {
   "cell_type": "code",
   "execution_count": 182,
   "metadata": {},
   "outputs": [
    {
     "name": "stdout",
     "output_type": "stream",
     "text": [
      "              precision    recall  f1-score   support\n",
      "\n",
      "           0       0.90      0.93      0.91      8777\n",
      "           1       0.79      0.71      0.75      3241\n",
      "\n",
      "    accuracy                           0.87     12018\n",
      "   macro avg       0.84      0.82      0.83     12018\n",
      "weighted avg       0.87      0.87      0.87     12018\n",
      "\n"
     ]
    }
   ],
   "source": [
    "print(classification_report(Y_test, Y_pred))"
   ]
  },
  {
   "cell_type": "code",
   "execution_count": 183,
   "metadata": {},
   "outputs": [
    {
     "data": {
      "text/plain": [
       "0    9124\n",
       "1    2894\n",
       "Name: Is_Canceled, dtype: int64"
      ]
     },
     "execution_count": 183,
     "metadata": {},
     "output_type": "execute_result"
    }
   ],
   "source": [
    "df = pd.DataFrame(data=Y_pred, columns=[\"Is_Canceled\"])\n",
    "df['Is_Canceled'].value_counts()"
   ]
  },
  {
   "cell_type": "code",
   "execution_count": 184,
   "metadata": {},
   "outputs": [
    {
     "data": {
      "image/png": "[encoded data removed]",
      "text/plain": [
       "<Figure size 504x504 with 1 Axes>"
      ]
     },
     "metadata": {},
     "output_type": "display_data"
    }
   ],
   "source": [
    "piedata = df['Is_Canceled'].value_counts()  # cancellation rate for pred based on test data set\n",
    "my_colors = ['lightblue','lavender'] # custom colors\n",
    "my_explode = (0.1,0) # custom effects\n",
    "plt.figure(figsize=(7,7)) #custom size for the pie chart\n",
    "piedata.plot.pie(autopct=\"%.1f%%\",colors=my_colors,explode=my_explode,shadow=True) #pie chart creation\n",
    "plt.title(\"Cancellation rate for h1, random forest classifier using test data set\")\n",
    "plt.show() # displaying only chart without the extra information"
   ]
  },
  {
   "cell_type": "code",
   "execution_count": 185,
   "metadata": {},
   "outputs": [
    {
     "name": "stdout",
     "output_type": "stream",
     "text": [
      "<class 'pandas.core.frame.DataFrame'>\n",
      "RangeIndex: 40060 entries, 0 to 40059\n",
      "Data columns (total 22 columns):\n",
      " #   Column                          Non-Null Count  Dtype  \n",
      "---  ------                          --------------  -----  \n",
      " 0   lead_time                       40060 non-null  int64  \n",
      " 1   arrival_date_year               40060 non-null  int64  \n",
      " 2   arrival_date_month              40060 non-null  int64  \n",
      " 3   arrival_date_week_number        40060 non-null  int64  \n",
      " 4   stays_in_weekend_nights         40060 non-null  int64  \n",
      " 5   stays_in_week_nights            40060 non-null  int64  \n",
      " 6   adults                          40060 non-null  int64  \n",
      " 7   children                        40060 non-null  float64\n",
      " 8   babies                          40060 non-null  int64  \n",
      " 9   meal                            40060 non-null  int64  \n",
      " 10  market_segment                  40060 non-null  int64  \n",
      " 11  distribution_channel            40060 non-null  int64  \n",
      " 12  is_repeated_guest               40060 non-null  int64  \n",
      " 13  previous_cancellations          40060 non-null  int64  \n",
      " 14  previous_bookings_not_canceled  40060 non-null  int64  \n",
      " 15  booking_changes                 40060 non-null  int64  \n",
      " 16  deposit_type                    40060 non-null  int64  \n",
      " 17  days_in_waiting_list            40060 non-null  int64  \n",
      " 18  adr                             40060 non-null  float64\n",
      " 19  required_car_parking_spaces     40060 non-null  int64  \n",
      " 20  total_of_special_requests       40060 non-null  int64  \n",
      " 21  different_assigned_room         40060 non-null  int64  \n",
      "dtypes: float64(2), int64(20)\n",
      "memory usage: 6.7 MB\n"
     ]
    }
   ],
   "source": [
    "whatif_leadtime = X.copy()\n",
    "whatif_leadtime.loc[whatif_leadtime.lead_time !=745698745,\"lead_time\"] = 10\n",
    "whatif_leadtime.info()"
   ]
  },
  {
   "cell_type": "code",
   "execution_count": 186,
   "metadata": {},
   "outputs": [
    {
     "data": {
      "text/plain": [
       "10    40060\n",
       "Name: lead_time, dtype: int64"
      ]
     },
     "execution_count": 186,
     "metadata": {},
     "output_type": "execute_result"
    }
   ],
   "source": [
    "whatif_leadtime['lead_time'].value_counts()"
   ]
  },
  {
   "cell_type": "code",
   "execution_count": 187,
   "metadata": {},
   "outputs": [
    {
     "name": "stdout",
     "output_type": "stream",
     "text": [
      "<class 'pandas.core.frame.DataFrame'>\n",
      "RangeIndex: 40060 entries, 0 to 40059\n",
      "Data columns (total 22 columns):\n",
      " #   Column                          Non-Null Count  Dtype  \n",
      "---  ------                          --------------  -----  \n",
      " 0   lead_time                       40060 non-null  int64  \n",
      " 1   arrival_date_year               40060 non-null  int64  \n",
      " 2   arrival_date_month              40060 non-null  int64  \n",
      " 3   arrival_date_week_number        40060 non-null  int64  \n",
      " 4   stays_in_weekend_nights         40060 non-null  int64  \n",
      " 5   stays_in_week_nights            40060 non-null  int64  \n",
      " 6   adults                          40060 non-null  int64  \n",
      " 7   children                        40060 non-null  float64\n",
      " 8   babies                          40060 non-null  int64  \n",
      " 9   meal                            40060 non-null  int64  \n",
      " 10  market_segment                  40060 non-null  int64  \n",
      " 11  distribution_channel            40060 non-null  int64  \n",
      " 12  is_repeated_guest               40060 non-null  int64  \n",
      " 13  previous_cancellations          40060 non-null  int64  \n",
      " 14  previous_bookings_not_canceled  40060 non-null  int64  \n",
      " 15  booking_changes                 40060 non-null  int64  \n",
      " 16  deposit_type                    40060 non-null  int64  \n",
      " 17  days_in_waiting_list            40060 non-null  int64  \n",
      " 18  adr                             40060 non-null  float64\n",
      " 19  required_car_parking_spaces     40060 non-null  int64  \n",
      " 20  total_of_special_requests       40060 non-null  int64  \n",
      " 21  different_assigned_room         40060 non-null  int64  \n",
      "dtypes: float64(2), int64(20)\n",
      "memory usage: 6.7 MB\n"
     ]
    }
   ],
   "source": [
    "#whatif_leadtime=whatif_leadtime.astype({\"lead_time\": int})\n",
    "whatif_leadtime.info()"
   ]
  },
  {
   "cell_type": "code",
   "execution_count": 188,
   "metadata": {},
   "outputs": [],
   "source": [
    "LT_pred = rf.predict(whatif_leadtime) # predictions for what-if data with lead time = 10"
   ]
  },
  {
   "cell_type": "code",
   "execution_count": 189,
   "metadata": {},
   "outputs": [
    {
     "data": {
      "image/png": "[encoded data removed]",
      "text/plain": [
       "<Figure size 504x504 with 1 Axes>"
      ]
     },
     "metadata": {},
     "output_type": "display_data"
    }
   ],
   "source": [
    "df = pd.DataFrame(data=LT_pred, columns=[\"Is_Canceled\"])\n",
    "df['Is_Canceled'].value_counts()\n",
    "piedata = df['Is_Canceled'].value_counts()  # cancellation rate for pred based on test data set\n",
    "my_colors = ['lightblue','lavender'] # custom colors\n",
    "my_explode = (0.1,0) # custom effects\n",
    "plt.figure(figsize=(7,7)) #custom size for the pie chart\n",
    "piedata.plot.pie(autopct=\"%.1f%%\",colors=my_colors,explode=my_explode,shadow=True) #pie chart creation\n",
    "plt.title(\"Cancellation rate for H2, random forest classifier using test data set\")\n",
    "plt.show() # displaying only chart without the extra information"
   ]
  },
  {
   "cell_type": "code",
   "execution_count": 190,
   "metadata": {},
   "outputs": [
    {
     "name": "stdout",
     "output_type": "stream",
     "text": [
      "Accuracy: 78.56%\n"
     ]
    }
   ],
   "source": [
    "accuracy = metrics.accuracy_score(Y, LT_pred)\n",
    "print(\"Accuracy: %.2f%%\" % (accuracy * 100.0))"
   ]
  },
  {
   "cell_type": "code",
   "execution_count": 191,
   "metadata": {},
   "outputs": [
    {
     "data": {
      "text/plain": [
       "4    28925\n",
       "2     7865\n",
       "1     3269\n",
       "5        1\n",
       "Name: distribution_channel, dtype: int64"
      ]
     },
     "execution_count": 191,
     "metadata": {},
     "output_type": "execute_result"
    }
   ],
   "source": [
    "whatif_channel = X.copy()\n",
    "whatif_channel['distribution_channel'].value_counts()"
   ]
  },
  {
   "cell_type": "code",
   "execution_count": 192,
   "metadata": {},
   "outputs": [
    {
     "data": {
      "text/plain": [
       "2    40060\n",
       "Name: distribution_channel, dtype: int64"
      ]
     },
     "execution_count": 192,
     "metadata": {},
     "output_type": "execute_result"
    }
   ],
   "source": [
    "whatif_channel.loc[whatif_channel.distribution_channel==1,\"distribution_channel\"] = 2\n",
    "whatif_channel.loc[whatif_channel.distribution_channel==2,\"distribution_channel\"] = 2\n",
    "whatif_channel.loc[whatif_channel.distribution_channel==3,\"distribution_channel\"] = 2\n",
    "whatif_channel.loc[whatif_channel.distribution_channel==4,\"distribution_channel\"] = 2\n",
    "whatif_channel.loc[whatif_channel.distribution_channel==5,\"distribution_channel\"] = 2\n",
    "\n",
    "whatif_channel['distribution_channel'].value_counts()"
   ]
  },
  {
   "cell_type": "code",
   "execution_count": 193,
   "metadata": {},
   "outputs": [
    {
     "name": "stdout",
     "output_type": "stream",
     "text": [
      "<class 'pandas.core.frame.DataFrame'>\n",
      "RangeIndex: 40060 entries, 0 to 40059\n",
      "Data columns (total 22 columns):\n",
      " #   Column                          Non-Null Count  Dtype  \n",
      "---  ------                          --------------  -----  \n",
      " 0   lead_time                       40060 non-null  int64  \n",
      " 1   arrival_date_year               40060 non-null  int64  \n",
      " 2   arrival_date_month              40060 non-null  int64  \n",
      " 3   arrival_date_week_number        40060 non-null  int64  \n",
      " 4   stays_in_weekend_nights         40060 non-null  int64  \n",
      " 5   stays_in_week_nights            40060 non-null  int64  \n",
      " 6   adults                          40060 non-null  int64  \n",
      " 7   children                        40060 non-null  float64\n",
      " 8   babies                          40060 non-null  int64  \n",
      " 9   meal                            40060 non-null  int64  \n",
      " 10  market_segment                  40060 non-null  int64  \n",
      " 11  distribution_channel            40060 non-null  int64  \n",
      " 12  is_repeated_guest               40060 non-null  int64  \n",
      " 13  previous_cancellations          40060 non-null  int64  \n",
      " 14  previous_bookings_not_canceled  40060 non-null  int64  \n",
      " 15  booking_changes                 40060 non-null  int64  \n",
      " 16  deposit_type                    40060 non-null  int64  \n",
      " 17  days_in_waiting_list            40060 non-null  int64  \n",
      " 18  adr                             40060 non-null  float64\n",
      " 19  required_car_parking_spaces     40060 non-null  int64  \n",
      " 20  total_of_special_requests       40060 non-null  int64  \n",
      " 21  different_assigned_room         40060 non-null  int64  \n",
      "dtypes: float64(2), int64(20)\n",
      "memory usage: 6.7 MB\n"
     ]
    }
   ],
   "source": [
    "#whatif_channel=whatif_channel.astype({\"distribution_channel\": int})\n",
    "whatif_leadtime.info()"
   ]
  },
  {
   "cell_type": "code",
   "execution_count": 194,
   "metadata": {},
   "outputs": [
    {
     "data": {
      "image/png": "[encoded data removed]",
      "text/plain": [
       "<Figure size 504x504 with 1 Axes>"
      ]
     },
     "metadata": {},
     "output_type": "display_data"
    }
   ],
   "source": [
    "DC_pred = rf.predict(whatif_channel)\n",
    "df = pd.DataFrame(data=DC_pred, columns=[\"Is_Canceled\"])\n",
    "df['Is_Canceled'].value_counts()\n",
    "piedata = df['Is_Canceled'].value_counts()  # cancellation rate for pred based on test data set\n",
    "my_colors = ['lightblue','lavender'] # custom colors\n",
    "my_explode = (0.1,0) # custom effects\n",
    "plt.figure(figsize=(7,7)) #custom size for the pie chart\n",
    "piedata.plot.pie(autopct=\"%.1f%%\",colors=my_colors,explode=my_explode,shadow=True) #pie chart creation\n",
    "plt.title(\"Cancellation rate for H2, random forest classifier using test data set\")\n",
    "plt.show() # displaying only chart without the extra information"
   ]
  },
  {
   "cell_type": "code",
   "execution_count": 195,
   "metadata": {},
   "outputs": [
    {
     "name": "stdout",
     "output_type": "stream",
     "text": [
      "Accuracy: 89.47%\n"
     ]
    }
   ],
   "source": [
    "accuracy = metrics.accuracy_score(Y, DC_pred)\n",
    "print(\"Accuracy: %.2f%%\" % (accuracy * 100.0))"
   ]
  },
  {
   "cell_type": "code",
   "execution_count": 196,
   "metadata": {},
   "outputs": [
    {
     "data": {
      "text/plain": [
       "1    38199\n",
       "2     1719\n",
       "3      142\n",
       "Name: deposit_type, dtype: int64"
      ]
     },
     "execution_count": 196,
     "metadata": {},
     "output_type": "execute_result"
    }
   ],
   "source": [
    "whatif_paid = X.copy()\n",
    "whatif_paid['deposit_type'].value_counts()"
   ]
  },
  {
   "cell_type": "code",
   "execution_count": 197,
   "metadata": {},
   "outputs": [
    {
     "data": {
      "text/plain": [
       "1    40060\n",
       "Name: deposit_type, dtype: int64"
      ]
     },
     "execution_count": 197,
     "metadata": {},
     "output_type": "execute_result"
    }
   ],
   "source": [
    "whatif_paid.loc[whatif_paid.deposit_type==1,\"deposit_type\"] = 1\n",
    "whatif_paid.loc[whatif_paid.deposit_type==2,\"deposit_type\"] = 1\n",
    "whatif_paid.loc[whatif_paid.deposit_type==3,\"deposit_type\"] = 1\n",
    "whatif_paid['deposit_type'].value_counts()\n"
   ]
  },
  {
   "cell_type": "code",
   "execution_count": 198,
   "metadata": {},
   "outputs": [
    {
     "name": "stdout",
     "output_type": "stream",
     "text": [
      "<class 'pandas.core.frame.DataFrame'>\n",
      "RangeIndex: 40060 entries, 0 to 40059\n",
      "Data columns (total 22 columns):\n",
      " #   Column                          Non-Null Count  Dtype  \n",
      "---  ------                          --------------  -----  \n",
      " 0   lead_time                       40060 non-null  int64  \n",
      " 1   arrival_date_year               40060 non-null  int64  \n",
      " 2   arrival_date_month              40060 non-null  int64  \n",
      " 3   arrival_date_week_number        40060 non-null  int64  \n",
      " 4   stays_in_weekend_nights         40060 non-null  int64  \n",
      " 5   stays_in_week_nights            40060 non-null  int64  \n",
      " 6   adults                          40060 non-null  int64  \n",
      " 7   children                        40060 non-null  float64\n",
      " 8   babies                          40060 non-null  int64  \n",
      " 9   meal                            40060 non-null  int64  \n",
      " 10  market_segment                  40060 non-null  int64  \n",
      " 11  distribution_channel            40060 non-null  int64  \n",
      " 12  is_repeated_guest               40060 non-null  int64  \n",
      " 13  previous_cancellations          40060 non-null  int64  \n",
      " 14  previous_bookings_not_canceled  40060 non-null  int64  \n",
      " 15  booking_changes                 40060 non-null  int64  \n",
      " 16  deposit_type                    40060 non-null  int64  \n",
      " 17  days_in_waiting_list            40060 non-null  int64  \n",
      " 18  adr                             40060 non-null  float64\n",
      " 19  required_car_parking_spaces     40060 non-null  int64  \n",
      " 20  total_of_special_requests       40060 non-null  int64  \n",
      " 21  different_assigned_room         40060 non-null  int64  \n",
      "dtypes: float64(2), int64(20)\n",
      "memory usage: 6.7 MB\n"
     ]
    }
   ],
   "source": [
    "#whatif_paid=whatif_paid.astype({\"deposit_type\": int})\n",
    "whatif_paid.info()"
   ]
  },
  {
   "cell_type": "code",
   "execution_count": 199,
   "metadata": {},
   "outputs": [
    {
     "data": {
      "image/png": "[encoded data removed]",
      "text/plain": [
       "<Figure size 504x504 with 1 Axes>"
      ]
     },
     "metadata": {},
     "output_type": "display_data"
    }
   ],
   "source": [
    "DT_pred = rf.predict(whatif_paid)\n",
    "df = pd.DataFrame(data=DT_pred, columns=[\"Is_Canceled\"])\n",
    "df['Is_Canceled'].value_counts()\n",
    "piedata = df['Is_Canceled'].value_counts()  # cancellation rate for pred based on test data set\n",
    "my_colors = ['lightblue','lavender'] # custom colors\n",
    "my_explode = (0.1,0) # custom effects\n",
    "plt.figure(figsize=(7,7)) #custom size for the pie chart\n",
    "piedata.plot.pie(autopct=\"%.1f%%\",colors=my_colors,explode=my_explode,shadow=True) #pie chart creation\n",
    "plt.title(\"Cancellation rate for H2, random forest classifier using test data set\")\n",
    "plt.show() # displaying only chart without the extra information"
   ]
  },
  {
   "cell_type": "code",
   "execution_count": 200,
   "metadata": {},
   "outputs": [
    {
     "name": "stdout",
     "output_type": "stream",
     "text": [
      "Accuracy: 93.84%\n"
     ]
    }
   ],
   "source": [
    "accuracy = metrics.accuracy_score(Y, DT_pred)\n",
    "print(\"Accuracy: %.2f%%\" % (accuracy * 100.0))"
   ]
  },
  {
   "cell_type": "code",
   "execution_count": null,
   "metadata": {},
   "outputs": [],
   "source": []
  }
 ],
 "metadata": {
  "kernelspec": {
   "display_name": "Python 3",
   "language": "python",
   "name": "python3"
  },
  "language_info": {
   "codemirror_mode": {
    "name": "ipython",
    "version": 3
   },
   "file_extension": ".py",
   "mimetype": "text/x-python",
   "name": "python",
   "nbconvert_exporter": "python",
   "pygments_lexer": "ipython3",
   "version": "3.8.3"
  }
 },
 "nbformat": 4,
 "nbformat_minor": 4
}
